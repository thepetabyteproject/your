{
 "cells": [
  {
   "cell_type": "markdown",
   "metadata": {},
   "source": [
    "# Writing files"
   ]
  },
  {
   "cell_type": "code",
   "execution_count": 1,
   "metadata": {},
   "outputs": [
    {
     "data": {
      "text/plain": [
       "'0.6.2'"
      ]
     },
     "execution_count": 1,
     "metadata": {},
     "output_type": "execute_result"
    }
   ],
   "source": [
    "import your\n",
    "\n",
    "your.__version__"
   ]
  },
  {
   "cell_type": "code",
   "execution_count": 2,
   "metadata": {},
   "outputs": [],
   "source": [
    "from your import Your, Writer\n",
    "import numpy as np\n",
    "import tempfile\n",
    "from urllib.request import urlretrieve"
   ]
  },
  {
   "cell_type": "code",
   "execution_count": 3,
   "metadata": {},
   "outputs": [],
   "source": [
    "import logging\n",
    "\n",
    "logger = logging.getLogger()\n",
    "logger = logging.basicConfig(\n",
    "    level=logging.INFO,\n",
    "    format=\"%(asctime)s - %(name)s - %(threadName)s - %(levelname)s - %(message)s\",\n",
    ")"
   ]
  },
  {
   "cell_type": "markdown",
   "metadata": {},
   "source": [
    "We can write + convert files using the [Writer](https://thepetabyteproject.github.io/your/writer/#writer) class in [Your](https://thepetabyteproject.github.io/your/your/#your). Let's read a Filterbank file and write out a PSRFITS and a Filterbank file"
   ]
  },
  {
   "cell_type": "code",
   "execution_count": 4,
   "metadata": {},
   "outputs": [],
   "source": [
    "temp_dir = tempfile.TemporaryDirectory()\n",
    "download_path = str(temp_dir.name) + \"/FRB180417.fil\"\n",
    "url = \"https://zenodo.org/record/3905426/files/FRB180417.fil\"\n",
    "urlretrieve(\n",
    "    url,\n",
    "    download_path,\n",
    ")\n",
    "fil_file = download_path\n",
    "your_original_file = Your(fil_file)"
   ]
  },
  {
   "cell_type": "markdown",
   "metadata": {},
   "source": [
    "While writing files you can also select the required channel and spectra range. Just give the required ranges as input to the Writer class.  "
   ]
  },
  {
   "cell_type": "code",
   "execution_count": 5,
   "metadata": {},
   "outputs": [],
   "source": [
    "writer_object = Writer(\n",
    "    your_original_file,\n",
    "    nstart=0,\n",
    "    nsamp=10,\n",
    "    c_min=10,\n",
    "    c_max=100,\n",
    "    outdir=\"./\",\n",
    "    outname=\"filfromfil\",\n",
    ")"
   ]
  },
  {
   "cell_type": "markdown",
   "metadata": {},
   "source": [
    "## Writing Filterbanks\n",
    "\n",
    "To write a filterbank we use the [`to_fil`](https://thepetabyteproject.github.io/your/writer/#to_fil) method,"
   ]
  },
  {
   "cell_type": "code",
   "execution_count": 6,
   "metadata": {},
   "outputs": [
    {
     "data": {
      "application/vnd.jupyter.widget-view+json": {
       "model_id": "5868a36d18a34ebbbed18d35763c1ae2",
       "version_major": 2,
       "version_minor": 0
      },
      "text/plain": [
       "Output()"
      ]
     },
     "metadata": {},
     "output_type": "display_data"
    }
   ],
   "source": [
    "writer_object.to_fil()"
   ]
  },
  {
   "cell_type": "markdown",
   "metadata": {},
   "source": [
    "We can just read this Filterbank using [Your](https://thepetabyteproject.github.io/your/your/#your) to make sure that the header parameters and the data are correctly written."
   ]
  },
  {
   "cell_type": "code",
   "execution_count": 7,
   "metadata": {
    "scrolled": false
   },
   "outputs": [
    {
     "data": {
      "text/plain": [
       "Unified Header:\n",
       "  \"basename\": \"filfromfil\"\n",
       "  \"bw\": -90.0\n",
       "  \"center_freq\": 1410.0\n",
       "  \"dec_deg\": 13.964475555555554\n",
       "  \"dtype\": \"uint8\"\n",
       "  \"fch1\": 1455.0\n",
       "  \"filelist\": [\n",
       "    \"filfromfil.fil\"\n",
       "  ]\n",
       "  \"filename\": \"filfromfil.fil\"\n",
       "  \"foff\": -1.0\n",
       "  \"format\": \"fil\"\n",
       "  \"frequency_decimation_factor\": 1\n",
       "  \"gb\": 75.61933243565039\n",
       "  \"gl\": 97.96004079061271\n",
       "  \"native_foff\": -1.0\n",
       "  \"native_nchans\": 90\n",
       "  \"native_nspectra\": 10.0\n",
       "  \"native_tsamp\": 0.00126646875\n",
       "  \"nbits\": 8\n",
       "  \"nchans\": 90\n",
       "  \"npol\": 1\n",
       "  \"nspectra\": 10\n",
       "  \"ra_deg\": 186.65681708333335\n",
       "  \"source_name\": \"src1\"\n",
       "  \"time_decimation_factor\": 1\n",
       "  \"tsamp\": 0.00126646875\n",
       "  \"tstart\": 58682.620316710374\n",
       "  \"tstart_utc\": \"2019-07-18T14:53:15.364\""
      ]
     },
     "execution_count": 7,
     "metadata": {},
     "output_type": "execute_result"
    }
   ],
   "source": [
    "your_written_filterbank = Your(\"filfromfil.fil\")\n",
    "your_written_filterbank.your_header"
   ]
  },
  {
   "cell_type": "markdown",
   "metadata": {},
   "source": [
    "We can also compare data from both the original file and the newly written file:"
   ]
  },
  {
   "cell_type": "code",
   "execution_count": 8,
   "metadata": {},
   "outputs": [],
   "source": [
    "original_data = your_original_file.get_data(0, 10)[:, 10:100]\n",
    "filterbank_data = your_written_filterbank.get_data(0, 10)"
   ]
  },
  {
   "cell_type": "code",
   "execution_count": 9,
   "metadata": {},
   "outputs": [
    {
     "data": {
      "text/plain": [
       "True"
      ]
     },
     "execution_count": 9,
     "metadata": {},
     "output_type": "execute_result"
    }
   ],
   "source": [
    "np.array_equal(original_data, filterbank_data)"
   ]
  },
  {
   "cell_type": "markdown",
   "metadata": {},
   "source": [
    "Looks good!\n",
    "\n",
    "## Writing PSRFITS\n",
    "\n",
    "\n",
    "\n",
    "All the inputs defined while declaring Writer are still gonna be used. Let's change the outname for clarity\n",
    "and select some channels"
   ]
  },
  {
   "cell_type": "code",
   "execution_count": 10,
   "metadata": {},
   "outputs": [],
   "source": [
    "writer_object = Writer(\n",
    "    your_original_file,\n",
    "    nstart=0,\n",
    "    nsamp=10,\n",
    "    c_min=0,\n",
    "    c_max=100,\n",
    "    outdir=\".\",\n",
    "    outname=\"fitsfromfil\",\n",
    ")"
   ]
  },
  {
   "cell_type": "code",
   "execution_count": 11,
   "metadata": {},
   "outputs": [],
   "source": [
    "writer_object.outname = \"fitsfromfil\"\n",
    "writer_object.c_min = 0\n",
    "writer_object.c_max = 100"
   ]
  },
  {
   "cell_type": "markdown",
   "metadata": {},
   "source": [
    "To write a PSRFITS we use the [`to_fits`](https://thepetabyteproject.github.io/your/writer/#to_fits) method,"
   ]
  },
  {
   "cell_type": "code",
   "execution_count": 12,
   "metadata": {},
   "outputs": [
    {
     "name": "stderr",
     "output_type": "stream",
     "text": [
      "2021-01-31 19:33:19,818 - root - MainThread - INFO - ObsInfo updated with relevant parameters\n",
      "2021-01-31 19:33:19,819 - your.formats.fitswriter - MainThread - INFO - Setting the following info to be written in ./fitsfromfil.fits \n",
      " {\n",
      "    \"ant_x\": -1601185.63,\n",
      "    \"ant_y\": -5041978.15,\n",
      "    \"ant_z\": 3554876.43,\n",
      "    \"bmaj_deg\": 0.0,\n",
      "    \"bmin_deg\": 0.0,\n",
      "    \"bpa_deg\": 0.0,\n",
      "    \"bw\": -100.0,\n",
      "    \"chan_bw\": -1.0,\n",
      "    \"dec_str\": \"13:57:52.1120\",\n",
      "    \"dt\": 0.00126646875,\n",
      "    \"fcenter\": 1415.0,\n",
      "    \"file_date\": \"2021-02-01T00:33:19\",\n",
      "    \"longitude\": -107.61833443381258,\n",
      "    \"nbits\": 8,\n",
      "    \"nchan\": 100,\n",
      "    \"nsblk\": 10,\n",
      "    \"nsuboffs\": 0.0,\n",
      "    \"obs_date\": \"2019-07-18T14:53:15\",\n",
      "    \"observer\": \"Human\",\n",
      "    \"proj_id\": \"Awesome_Project\",\n",
      "    \"ra_str\": \"12:26:37.6361\",\n",
      "    \"scan_len\": 0.0126646875,\n",
      "    \"src_name\": \"src1\",\n",
      "    \"stt_imjd\": 58682,\n",
      "    \"stt_lst\": 12438.193191755068,\n",
      "    \"stt_offs\": 0.3637763159349561,\n",
      "    \"stt_smjd\": 53595,\n",
      "    \"telescope\": \"VLA\"\n",
      "}\n",
      "2021-01-31 19:33:19,825 - root - MainThread - INFO - Building the PSRFITS table\n",
      "2021-01-31 19:33:19,842 - root - MainThread - INFO - Writing PSRFITS table to file: ./fitsfromfil.fits\n",
      "2021-01-31 19:33:19,855 - root - MainThread - INFO - Header information written in ./fitsfromfil.fits\n",
      "2021-01-31 19:33:19,856 - your.writer - MainThread - INFO - Filling PSRFITS file with data\n",
      "2021-01-31 19:33:19,871 - your.writer - MainThread - INFO - Number of subints to write 1\n"
     ]
    },
    {
     "data": {
      "application/vnd.jupyter.widget-view+json": {
       "model_id": "bb6157fcc47f41819debd29fab066b3d",
       "version_major": 2,
       "version_minor": 0
      },
      "text/plain": [
       "Output()"
      ]
     },
     "metadata": {},
     "output_type": "display_data"
    },
    {
     "name": "stderr",
     "output_type": "stream",
     "text": [
      "2021-01-31 19:33:19,885 - your.writer - MainThread - INFO - Writing data to ./fitsfromfil.fits from subint = 0 to 1.\n",
      "2021-01-31 19:33:20,163 - your.writer - MainThread - INFO - All spectra written to ./fitsfromfil.fits\n"
     ]
    }
   ],
   "source": [
    "writer_object.to_fits()"
   ]
  },
  {
   "cell_type": "markdown",
   "metadata": {},
   "source": [
    "Similar to reading the PSRFITS file, we can also read a filterbank file and convert to both formats by first defining a [`writer_object`](https://thepetabyteproject.github.io/your/writer/) and using the [`to_fits`](https://thepetabyteproject.github.io/your/writer/#to_fits) and [`to_fil`](https://thepetabyteproject.github.io/your/writer/#to_fil) methods.\n",
    "\n",
    "## Writing Filterbanks from scratch\n",
    "\n",
    "First step in writing a filterbank is to create the header. We will use the [`make_sigproc_object`](https://thepetabyteproject.github.io/your/formats/filwriter/#make_sigproc_object) function for this."
   ]
  },
  {
   "cell_type": "code",
   "execution_count": 13,
   "metadata": {},
   "outputs": [],
   "source": [
    "import numpy as np\n",
    "from your.formats.filwriter import make_sigproc_object"
   ]
  },
  {
   "cell_type": "code",
   "execution_count": 14,
   "metadata": {},
   "outputs": [],
   "source": [
    "sigproc_object = make_sigproc_object(\n",
    "    rawdatafile=\"foo.fil\",\n",
    "    source_name=\"bar\",\n",
    "    nchans=1024,\n",
    "    foff=-0.1,  # MHz\n",
    "    fch1=2000,  # MHz\n",
    "    tsamp=256e-6,  # seconds\n",
    "    tstart=59246,  # MJD\n",
    "    src_raj=112233.44,  # HHMMSS.SS\n",
    "    src_dej=112233.44,  # DDMMSS.SS\n",
    "    machine_id=0,\n",
    "    nbeams=0,\n",
    "    ibeam=0,\n",
    "    nbits=8,\n",
    "    nifs=1,\n",
    "    barycentric=0,\n",
    "    pulsarcentric=0,\n",
    "    telescope_id=6,\n",
    "    data_type=0,\n",
    "    az_start=-1,\n",
    "    za_start=-1,\n",
    ")"
   ]
  },
  {
   "cell_type": "markdown",
   "metadata": {},
   "source": [
    "Now we have `sigproc_object` which is an instance of the [`SigprocFile`](https://thepetabyteproject.github.io/your/formats/pysigproc/#sigprocfile) class. The class contains all the required functions to write a new file.\n",
    "\n",
    "First we use [`write_header`](https://thepetabyteproject.github.io/your/formats/pysigproc/#write_header) to write the header in `foo.fil` and then we use [`append_spectra`](https://thepetabyteproject.github.io/your/formats/pysigproc/#append_spectra) to fill data in the file."
   ]
  },
  {
   "cell_type": "code",
   "execution_count": 15,
   "metadata": {},
   "outputs": [],
   "source": [
    "sigproc_object.write_header(\"foo.fil\")"
   ]
  },
  {
   "cell_type": "markdown",
   "metadata": {},
   "source": [
    "Now let's create some random data with 8192 time samples and 1024 frequency channels to fill in our file and then append it."
   ]
  },
  {
   "cell_type": "code",
   "execution_count": 16,
   "metadata": {},
   "outputs": [],
   "source": [
    "data_written = np.random.randint(low=0, high=255, size=(8192, 1024), dtype=np.uint8)"
   ]
  },
  {
   "cell_type": "code",
   "execution_count": 17,
   "metadata": {},
   "outputs": [],
   "source": [
    "sigproc_object.append_spectra(data_written, \"foo.fil\")"
   ]
  },
  {
   "cell_type": "markdown",
   "metadata": {},
   "source": [
    "We can test if the data written is correct by opening it using Your."
   ]
  },
  {
   "cell_type": "code",
   "execution_count": 18,
   "metadata": {},
   "outputs": [],
   "source": [
    "your_filterbank = Your(\"foo.fil\")"
   ]
  },
  {
   "cell_type": "code",
   "execution_count": 19,
   "metadata": {},
   "outputs": [
    {
     "data": {
      "text/plain": [
       "Unified Header:\n",
       "  \"basename\": \"foo\"\n",
       "  \"bw\": -102.4\n",
       "  \"center_freq\": 1948.8\n",
       "  \"dec_deg\": 11.375955555555556\n",
       "  \"dtype\": \"uint8\"\n",
       "  \"fch1\": 2000.0\n",
       "  \"filelist\": [\n",
       "    \"foo.fil\"\n",
       "  ]\n",
       "  \"filename\": \"foo.fil\"\n",
       "  \"foff\": -0.1\n",
       "  \"format\": \"fil\"\n",
       "  \"frequency_decimation_factor\": 1\n",
       "  \"gb\": 63.85089912218148\n",
       "  \"gl\": 65.66179798134573\n",
       "  \"native_foff\": -0.1\n",
       "  \"native_nchans\": 1024\n",
       "  \"native_nspectra\": 8192.0\n",
       "  \"native_tsamp\": 0.000256\n",
       "  \"nbits\": 8\n",
       "  \"nchans\": 1024\n",
       "  \"npol\": 1\n",
       "  \"nspectra\": 8192\n",
       "  \"ra_deg\": 170.63933333333335\n",
       "  \"source_name\": \"bar\"\n",
       "  \"time_decimation_factor\": 1\n",
       "  \"tsamp\": 0.000256\n",
       "  \"tstart\": 59246.0\n",
       "  \"tstart_utc\": \"2021-02-01T00:00:00.000\""
      ]
     },
     "execution_count": 19,
     "metadata": {},
     "output_type": "execute_result"
    }
   ],
   "source": [
    "your_filterbank.your_header"
   ]
  },
  {
   "cell_type": "code",
   "execution_count": 20,
   "metadata": {},
   "outputs": [],
   "source": [
    "data_read = your_filterbank.get_data(nstart=0, nsamp=8192)"
   ]
  },
  {
   "cell_type": "code",
   "execution_count": 21,
   "metadata": {},
   "outputs": [
    {
     "data": {
      "text/plain": [
       "True"
      ]
     },
     "execution_count": 21,
     "metadata": {},
     "output_type": "execute_result"
    }
   ],
   "source": [
    "np.array_equal(data_read, data_written)"
   ]
  }
 ],
 "metadata": {
  "kernelspec": {
   "display_name": "Python 3",
   "language": "python",
   "name": "python3"
  },
  "language_info": {
   "codemirror_mode": {
    "name": "ipython",
    "version": 3
   },
   "file_extension": ".py",
   "mimetype": "text/x-python",
   "name": "python",
   "nbconvert_exporter": "python",
   "pygments_lexer": "ipython3",
   "version": "3.8.6"
  }
 },
 "nbformat": 4,
 "nbformat_minor": 2
}
