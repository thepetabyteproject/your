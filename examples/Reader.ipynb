{
 "cells": [
  {
   "cell_type": "markdown",
   "metadata": {
    "pycharm": {
     "name": "#%% md\n"
    }
   },
   "source": [
    "# Reading files"
   ]
  },
  {
   "cell_type": "code",
   "execution_count": 1,
   "metadata": {
    "pycharm": {
     "name": "#%%\n"
    }
   },
   "outputs": [],
   "source": [
    "import your\n",
    "\n",
    "your.__version__"
   ]
  },
  {
   "cell_type": "markdown",
   "metadata": {
    "pycharm": {
     "name": "#%% md\n"
    }
   },
   "source": [
    "## Loading data\n",
    "\n",
    "Download and extract a sample filterbank. Here we use the filterbanks containing [FRB180417](https://doi.org/10.1093/mnras/stz2574)."
   ]
  },
  {
   "cell_type": "code",
   "execution_count": 2,
   "metadata": {},
   "outputs": [],
   "source": [
    "import logging\n",
    "\n",
    "logging_format = \"%(asctime)s - %(funcName)s -%(name)s - %(levelname)s - %(message)s\"\n",
    "logging.basicConfig(level=logging.INFO, format=logging_format)"
   ]
  },
  {
   "cell_type": "code",
   "execution_count": 3,
   "metadata": {
    "pycharm": {
     "name": "#%%\n"
    }
   },
   "outputs": [],
   "source": [
    "import os\n",
    "import tempfile\n",
    "import pylab as plt\n",
    "from urllib.request import urlretrieve"
   ]
  },
  {
   "cell_type": "code",
   "execution_count": 4,
   "metadata": {
    "pycharm": {
     "name": "#%%\n"
    }
   },
   "outputs": [],
   "source": [
    "temp_dir = tempfile.TemporaryDirectory()\n",
    "download_path = str(temp_dir.name) + \"/FRB180417.fil\"\n",
    "url = \"https://zenodo.org/record/3905426/files/FRB180417.fil\"\n",
    "urlretrieve(\n",
    "    url,\n",
    "    download_path,\n",
    ")\n",
    "fil_file = download_path"
   ]
  },
  {
   "cell_type": "markdown",
   "metadata": {},
   "source": [
    "### Using the Context Manager\n",
    "\n",
    "It is recommended to use the `Your` object as a context manager to ensure that files are properly closed after use. This can be done using a `with` statement:\n",
    "\n",
    "```python\n",
    "import your\n",
    "import os # Add os import for path joining if using data files\n",
    "from your.utils.misc import check_file_exist # To check if example files exist\n",
    "\n",
    "# Define data_dir for example files, assuming this notebook is in examples/\n",
    "# and test data is in examples/data/\n",
    "# Adjust if your data directory structure is different or if files are elsewhere.\n",
    "data_dir = \"data\" # Relative path to data from the notebook's location\n",
    "\n",
    "# Example with a filterbank file\n",
    "fil_file_example = os.path.join(data_dir, \"small.fil\") # Using an actual small test file\n",
    "print(f\"Checking for example file: {fil_file_example}\")\n",
    "try:\n",
    "    check_file_exist(fil_file_example) # Utility to ensure file exists before trying to open\n",
    "    print(f\"Using filterbank file: {fil_file_example}\")\n",
    "    with your.Your(fil_file_example) as y_obj:\n",
    "        header = y_obj.your_header\n",
    "        print(f\"Source: {header.source_name}\")\n",
    "        data = y_obj.get_data(nstart=0, nsamp=10) # Reading only 10 samples\n",
    "        # File and mmap object are automatically closed\n",
    "        print(f\"Inside 'with' block: Filterbank file object open status: {not y_obj.formatclass.fp.closed}\")\n",
    "    print(f\"After 'with' block: Filterbank file object closed: {y_obj.formatclass.fp.closed}\")\n",
    "    if hasattr(y_obj.formatclass._mmdata, 'closed'):\n",
    "         print(f\"After 'with' block: Filterbank mmap object closed: {y_obj.formatclass._mmdata.closed}\")\n",
    "    else:\n",
    "        try:\n",
    "            y_obj.formatclass._mmdata.size()\n",
    "            print(\"After 'with' block: Filterbank mmap object appears to be open (size() did not fail)\")\n",
    "        except ValueError:\n",
    "            print(\"After 'with' block: Filterbank mmap object closed (size() failed as expected)\")\n",
    "except FileNotFoundError as e:\n",
    "    print(e)\n",
    "    print(\"Skipping filterbank context manager example as file is not found.\")\n",
    "\n",
    "\n",
    "# Example with a PSRFITS file\n",
    "fits_file_example = os.path.join(data_dir, \"small.fits\") # Using an actual small test file\n",
    "print(f\"\\nChecking for example file: {fits_file_example}\")\n",
    "try:\n",
    "    check_file_exist(fits_file_example)\n",
    "    print(f\"Using PSRFITS file: {fits_file_example}\")\n",
    "    with your.Your(fits_file_example) as y_obj:\n",
    "        print(f\"Center frequency: {y_obj.your_header.center_freq}\")\n",
    "        # FITS file is automatically closed\n",
    "        print(f\"Inside 'with' block: PSRFITS file object open status: {not y_obj.formatclass.fits._file.closed}\")\n",
    "    print(f\"After 'with' block: PSRFITS file object closed: {y_obj.formatclass.fits._file.closed}\")\n",
    "except FileNotFoundError as e:\n",
    "    print(e)\n",
    "    print(\"Skipping PSRFITS context manager example as file is not found.\")\n",
    "\n",
    "# Example with a list of (dummy) PSRFITS files\n",
    "# Using dummy names as setting up multiple real files for a notebook example can be complex.\n",
    "# The tests cover multi-file scenarios with real files.\n",
    "print(\"\\nUsing a list of (dummy) PSRFITS files for context manager example:\")\n",
    "# Note: The following will likely fail if these files don't exist.\n",
    "# For a runnable example, these should be paths to actual files.\n",
    "# For documentation, placeholder names are fine if clearly marked.\n",
    "dummy_fits_files = [\"dummy_file1.fits\", \"dummy_file2.fits\"]\n",
    "print(f\"Attempting to use: {dummy_fits_files}. These are placeholders and will likely cause an error if they don't exist.\")\n",
    "try:\n",
    "    with your.Your(dummy_fits_files) as y_obj:\n",
    "        print(f\"Total native spectra (from list): {y_obj.your_header.native_nspectra}\")\n",
    "        # All PSRFITS files associated are handled by the context manager\n",
    "    print(\"PSRFITS files in list are handled by context manager.\")\n",
    "except Exception as e:\n",
    "    print(f\"Error with dummy PSRFITS file list example (as expected if files don't exist): {e}\")\n",
    "```"
   ]
  },
  {
   "cell_type": "markdown",
   "metadata": {
    "pycharm": {
     "name": "#%% md\n"
    }
   },
   "source": [
    "## Unified Reader\n",
    "\n",
    "We can now read the file using [Your](https://thepetabyteproject.github.io/your/your/) as,"
   ]
  },
  {
   "cell_type": "code",
   "execution_count": 5,
   "metadata": {
    "pycharm": {
     "name": "#%%\n"
    }
   },
   "outputs": [],
   "source": [
    "your_object = your.Your(fil_file)"
   ]
  },
  {
   "cell_type": "markdown",
   "metadata": {
    "pycharm": {
     "name": "#%% md\n"
    }
   },
   "source": [
    "Similarly using `your` we can read \n",
    "* list of psrfits files,\n",
    "* single psrfits file,\n",
    "* single filterbank file.\n",
    "\n",
    "## Unified Header\n",
    "\n",
    "Regardless of the file source, each `your` object has a unified header which can be accessed as follows. [your_header](https://thepetabyteproject.github.io/your/your/#header) displays all the attributes. These can be accessed as `your_object.your_header.attribute`, e.g. to get the sampling interval use `your_object.your_header.tsamp`."
   ]
  },
  {
   "cell_type": "code",
   "execution_count": 6,
   "metadata": {
    "pycharm": {
     "name": "#%%\n"
    }
   },
   "outputs": [],
   "source": [
    "print(your_object.your_header)"
   ]
  },
  {
   "cell_type": "markdown",
   "metadata": {},
   "source": [
    "## Reading data\n",
    "\n",
    "You can read the data in the file using the [get_data](https://thepetabyteproject.github.io/your/your/#get_data) method. The output is a numpy array with shape (nsamp, nchans)."
   ]
  },
  {
   "cell_type": "code",
   "execution_count": 7,
   "metadata": {
    "pycharm": {
     "name": "#%%\n"
    }
   },
   "outputs": [],
   "source": [
    "data = your_object.get_data(nstart=0, nsamp=4096)\n",
    "data.shape"
   ]
  },
  {
   "cell_type": "markdown",
   "metadata": {},
   "source": [
    "And display the data!"
   ]
  },
  {
   "cell_type": "code",
   "execution_count": 8,
   "metadata": {
    "pycharm": {
     "name": "#%%\n"
    }
   },
   "outputs": [],
   "source": [
    "plt.figure(figsize=(8, 6))\n",
    "plt.imshow(data.T, aspect=\"auto\")\n",
    "plt.xlabel(\"Time Samples\")\n",
    "plt.ylabel(\"Frequency Channels\")\n",
    "plt.colorbar()"
   ]
  },
  {
   "cell_type": "markdown",
   "metadata": {},
   "source": [
    "## Bandpass\n",
    "\n",
    "You can create the bandpass of the entire file or a few specific spectra by using [your_object.bandpass](https://thepetabyteproject.github.io/your/your/#bandpass)"
   ]
  },
  {
   "cell_type": "code",
   "execution_count": 9,
   "metadata": {
    "pycharm": {
     "name": "#%%\n"
    }
   },
   "outputs": [],
   "source": [
    "bandpass = your_object.bandpass()"
   ]
  },
  {
   "cell_type": "markdown",
   "metadata": {},
   "source": [
    "And plot and save the bandpass using the [save_bandpass](https://thepetabyteproject.github.io/your/utils/plotter/#save_bandpass-function) function from [your.utils.plotter](https://thepetabyteproject.github.io/your/utils/plotter/)."
   ]
  },
  {
   "cell_type": "code",
   "execution_count": 10,
   "metadata": {
    "pycharm": {
     "name": "#%%\n"
    }
   },
   "outputs": [],
   "source": [
    "from your.utils.plotter import save_bandpass"
   ]
  },
  {
   "cell_type": "code",
   "execution_count": 11,
   "metadata": {
    "pycharm": {
     "name": "#%%\n"
    }
   },
   "outputs": [],
   "source": [
    "save_bandpass(your_object, bandpass)"
   ]
  }
 ],
 "metadata": {
  "kernelspec": {
   "display_name": "Python 3",
   "language": "python",
   "name": "python3"
  },
  "language_info": {
   "codemirror_mode": {
    "name": "ipython",
    "version": 3
   },
   "file_extension": ".py",
   "mimetype": "text/x-python",
   "name": "python",
   "nbconvert_exporter": "python",
   "pygments_lexer": "ipython3",
   "version": "3.8.6"
  }
 },
 "nbformat": 4,
 "nbformat_minor": 1
}
